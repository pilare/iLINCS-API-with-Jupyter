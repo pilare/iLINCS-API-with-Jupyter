{
 "cells": [
  {
   "cell_type": "markdown",
   "metadata": {},
   "source": [
    "---\n",
    "title: \"Using iLINCS API Jupyter Notebook\"\n",
    "output:\n",
    "  html_document:\n",
    "    df_print: paged\n",
    "  html_notebook: default\n",
    "  word_document: default\n",
    "  pdf_document: default\n",
    "---"
   ]
  },
  {
   "cell_type": "code",
   "execution_count": 18,
   "metadata": {},
   "outputs": [],
   "source": [
    "#install.packages(c('knitr', 'tinytex', 'httr', 'jsonlite', 'plotly', 'devtools', 'htmltools'))\n",
    "# devtools::install_github('cmap/morpheus.R')\n",
    "library(knitr)\n",
    "# library(tinytex)\n",
    "library(httr)\n",
    "library(jsonlite)\n",
    "library(plyr)\n",
    "# library(data.table)\n",
    "# library(plotly)\n",
    "# library(htmltools)"
   ]
  },
  {
   "cell_type": "markdown",
   "metadata": {},
   "source": [
    "## Display Signature Libraries"
   ]
  },
  {
   "cell_type": "code",
   "execution_count": 2,
   "metadata": {},
   "outputs": [
    {
     "data": {
      "text/html": [
       "<table>\n",
       "<thead><tr><th scope=col>libraryID</th><th scope=col>libraryName</th></tr></thead>\n",
       "<tbody>\n",
       "\t<tr><td>LIB_1                                          </td><td>Disease related signatures                     </td></tr>\n",
       "\t<tr><td>LIB_10                                         </td><td>Cancer therapeutics response signatures        </td></tr>\n",
       "\t<tr><td>LIB_11                                         </td><td>LINCS gene overexpression signatures           </td></tr>\n",
       "\t<tr><td>LIB_12                                         </td><td>DrugMatrix signatures                          </td></tr>\n",
       "\t<tr><td>LIB_2                                          </td><td>Connectivity Map signatures                    </td></tr>\n",
       "\t<tr><td>LIB_3                                          </td><td>ENCODE transcription factor binding signatures </td></tr>\n",
       "\t<tr><td>LIB_5                                          </td><td>LINCS chemical perturbagen signatures          </td></tr>\n",
       "\t<tr><td>LIB_6                                          </td><td>LINCS consensus gene (CGS) knockdown signatures</td></tr>\n",
       "\t<tr><td>LIB_8                                          </td><td>LINCS RNA-Seq signatures                       </td></tr>\n",
       "\t<tr><td>LIB_9                                          </td><td>LINCS targeted proteomics signatures           </td></tr>\n",
       "</tbody>\n",
       "</table>\n"
      ],
      "text/latex": [
       "\\begin{tabular}{r|ll}\n",
       " libraryID & libraryName\\\\\n",
       "\\hline\n",
       "\t LIB\\_1                                         & Disease related signatures                     \\\\\n",
       "\t LIB\\_10                                        & Cancer therapeutics response signatures        \\\\\n",
       "\t LIB\\_11                                        & LINCS gene overexpression signatures           \\\\\n",
       "\t LIB\\_12                                        & DrugMatrix signatures                          \\\\\n",
       "\t LIB\\_2                                         & Connectivity Map signatures                    \\\\\n",
       "\t LIB\\_3                                         & ENCODE transcription factor binding signatures \\\\\n",
       "\t LIB\\_5                                         & LINCS chemical perturbagen signatures          \\\\\n",
       "\t LIB\\_6                                         & LINCS consensus gene (CGS) knockdown signatures\\\\\n",
       "\t LIB\\_8                                         & LINCS RNA-Seq signatures                       \\\\\n",
       "\t LIB\\_9                                         & LINCS targeted proteomics signatures           \\\\\n",
       "\\end{tabular}\n"
      ],
      "text/markdown": [
       "\n",
       "libraryID | libraryName | \n",
       "|---|---|---|---|---|---|---|---|---|---|\n",
       "| LIB_1                                           | Disease related signatures                      | \n",
       "| LIB_10                                          | Cancer therapeutics response signatures         | \n",
       "| LIB_11                                          | LINCS gene overexpression signatures            | \n",
       "| LIB_12                                          | DrugMatrix signatures                           | \n",
       "| LIB_2                                           | Connectivity Map signatures                     | \n",
       "| LIB_3                                           | ENCODE transcription factor binding signatures  | \n",
       "| LIB_5                                           | LINCS chemical perturbagen signatures           | \n",
       "| LIB_6                                           | LINCS consensus gene (CGS) knockdown signatures | \n",
       "| LIB_8                                           | LINCS RNA-Seq signatures                        | \n",
       "| LIB_9                                           | LINCS targeted proteomics signatures            | \n",
       "\n",
       "\n"
      ],
      "text/plain": [
       "   libraryID libraryName                                    \n",
       "1  LIB_1     Disease related signatures                     \n",
       "2  LIB_10    Cancer therapeutics response signatures        \n",
       "3  LIB_11    LINCS gene overexpression signatures           \n",
       "4  LIB_12    DrugMatrix signatures                          \n",
       "5  LIB_2     Connectivity Map signatures                    \n",
       "6  LIB_3     ENCODE transcription factor binding signatures \n",
       "7  LIB_5     LINCS chemical perturbagen signatures          \n",
       "8  LIB_6     LINCS consensus gene (CGS) knockdown signatures\n",
       "9  LIB_8     LINCS RNA-Seq signatures                       \n",
       "10 LIB_9     LINCS targeted proteomics signatures           "
      ]
     },
     "metadata": {},
     "output_type": "display_data"
    }
   ],
   "source": [
    "apiUrl <- \"http://www.ilincs.org/api/SignatureLibraries\"\n",
    "req <- GET(apiUrl)\n",
    "json <- httr::content(req, as = \"text\")\n",
    "ilincs_libraries <- fromJSON(json)\n",
    "ilincs_libraries[,c(\"libraryID\",\"libraryName\")]"
   ]
  },
  {
   "cell_type": "markdown",
   "metadata": {},
   "source": [
    "## Searching for signature using BROAD ID\n",
    "\n",
    "Searching for signature for given term. In this example \"Diclofenac\" coumpound will be shown as an example."
   ]
  },
  {
   "cell_type": "code",
   "execution_count": 3,
   "metadata": {},
   "outputs": [
    {
     "name": "stderr",
     "output_type": "stream",
     "text": [
      "No encoding supplied: defaulting to UTF-8.\n"
     ]
    },
    {
     "data": {
      "text/html": [
       "<table>\n",
       "<thead><tr><th scope=col>cellline</th><th scope=col>compound</th><th scope=col>concentration</th><th scope=col>signatureid</th><th scope=col>is_exemplar</th></tr></thead>\n",
       "<tbody>\n",
       "\t<tr><td>A375          </td><td>Diclofenac    </td><td>10uM          </td><td>LINCSCP_100   </td><td> 1            </td></tr>\n",
       "\t<tr><td>MCF7          </td><td>Diclofenac    </td><td>0.04uM        </td><td>LINCSCP_135985</td><td>NA            </td></tr>\n",
       "\t<tr><td>HA1E          </td><td>Diclofenac    </td><td>10uM          </td><td>LINCSCP_14684 </td><td> 0            </td></tr>\n",
       "\t<tr><td>PC3           </td><td>Diclofenac    </td><td>10uM          </td><td>LINCSCP_154188</td><td>NA            </td></tr>\n",
       "\t<tr><td>PC3           </td><td>Diclofenac    </td><td>3.33uM        </td><td>LINCSCP_154189</td><td>NA            </td></tr>\n",
       "\t<tr><td>A375          </td><td>Diclofenac    </td><td>10uM          </td><td>LINCSCP_178714</td><td> 0            </td></tr>\n",
       "</tbody>\n",
       "</table>\n"
      ],
      "text/latex": [
       "\\begin{tabular}{r|lllll}\n",
       " cellline & compound & concentration & signatureid & is\\_exemplar\\\\\n",
       "\\hline\n",
       "\t A375             & Diclofenac       & 10uM             & LINCSCP\\_100    &  1              \\\\\n",
       "\t MCF7             & Diclofenac       & 0.04uM           & LINCSCP\\_135985 & NA              \\\\\n",
       "\t HA1E             & Diclofenac       & 10uM             & LINCSCP\\_14684  &  0              \\\\\n",
       "\t PC3              & Diclofenac       & 10uM             & LINCSCP\\_154188 & NA              \\\\\n",
       "\t PC3              & Diclofenac       & 3.33uM           & LINCSCP\\_154189 & NA              \\\\\n",
       "\t A375             & Diclofenac       & 10uM             & LINCSCP\\_178714 &  0              \\\\\n",
       "\\end{tabular}\n"
      ],
      "text/markdown": [
       "\n",
       "cellline | compound | concentration | signatureid | is_exemplar | \n",
       "|---|---|---|---|---|---|\n",
       "| A375           | Diclofenac     | 10uM           | LINCSCP_100    |  1             | \n",
       "| MCF7           | Diclofenac     | 0.04uM         | LINCSCP_135985 | NA             | \n",
       "| HA1E           | Diclofenac     | 10uM           | LINCSCP_14684  |  0             | \n",
       "| PC3            | Diclofenac     | 10uM           | LINCSCP_154188 | NA             | \n",
       "| PC3            | Diclofenac     | 3.33uM         | LINCSCP_154189 | NA             | \n",
       "| A375           | Diclofenac     | 10uM           | LINCSCP_178714 |  0             | \n",
       "\n",
       "\n"
      ],
      "text/plain": [
       "  cellline compound   concentration signatureid    is_exemplar\n",
       "1 A375     Diclofenac 10uM          LINCSCP_100     1         \n",
       "2 MCF7     Diclofenac 0.04uM        LINCSCP_135985 NA         \n",
       "3 HA1E     Diclofenac 10uM          LINCSCP_14684   0         \n",
       "4 PC3      Diclofenac 10uM          LINCSCP_154188 NA         \n",
       "5 PC3      Diclofenac 3.33uM        LINCSCP_154189 NA         \n",
       "6 A375     Diclofenac 10uM          LINCSCP_178714  0         "
      ]
     },
     "metadata": {},
     "output_type": "display_data"
    }
   ],
   "source": [
    "term <- \"Diclofenac\"\n",
    "ilincs_libId<-\"LIB_5\"\n",
    "apiUrl <- paste(\"http://www.ilincs.org/api/SignatureMeta/findTermWithSynonyms?term=\",term,\"&library=\",ilincs_libId,sep=\"\")\n",
    "req <- GET(apiUrl)\n",
    "\n",
    "ilincs_result_df<-fromJSON(httr::content(req,type=\"text\"))$data\n",
    "# head(ilincs_result_df)\n",
    "head(ilincs_result_df[,c(\"cellline\",\"compound\",\"concentration\",\"signatureid\",\"is_exemplar\")])"
   ]
  },
  {
   "cell_type": "markdown",
   "metadata": {},
   "source": [
    "## Searching for signature\n",
    "\n",
    "###Searching for signature for given term. In this example \"Diclofenac\" coumpound will be shown as an example.\n"
   ]
  },
  {
   "cell_type": "code",
   "execution_count": 4,
   "metadata": {},
   "outputs": [
    {
     "name": "stderr",
     "output_type": "stream",
     "text": [
      "No encoding supplied: defaulting to UTF-8.\n"
     ]
    },
    {
     "data": {
      "text/html": [
       "<table>\n",
       "<thead><tr><th scope=col>cellline</th><th scope=col>compound</th><th scope=col>concentration</th><th scope=col>signatureid</th><th scope=col>is_exemplar</th></tr></thead>\n",
       "<tbody>\n",
       "\t<tr><td>A375          </td><td>Diclofenac    </td><td>10uM          </td><td>LINCSCP_100   </td><td> 1            </td></tr>\n",
       "\t<tr><td>MCF7          </td><td>Diclofenac    </td><td>0.04uM        </td><td>LINCSCP_135985</td><td>NA            </td></tr>\n",
       "\t<tr><td>HA1E          </td><td>Diclofenac    </td><td>10uM          </td><td>LINCSCP_14684 </td><td> 0            </td></tr>\n",
       "\t<tr><td>PC3           </td><td>Diclofenac    </td><td>10uM          </td><td>LINCSCP_154188</td><td>NA            </td></tr>\n",
       "\t<tr><td>PC3           </td><td>Diclofenac    </td><td>3.33uM        </td><td>LINCSCP_154189</td><td>NA            </td></tr>\n",
       "\t<tr><td>A375          </td><td>Diclofenac    </td><td>10uM          </td><td>LINCSCP_178714</td><td> 0            </td></tr>\n",
       "</tbody>\n",
       "</table>\n"
      ],
      "text/latex": [
       "\\begin{tabular}{r|lllll}\n",
       " cellline & compound & concentration & signatureid & is\\_exemplar\\\\\n",
       "\\hline\n",
       "\t A375             & Diclofenac       & 10uM             & LINCSCP\\_100    &  1              \\\\\n",
       "\t MCF7             & Diclofenac       & 0.04uM           & LINCSCP\\_135985 & NA              \\\\\n",
       "\t HA1E             & Diclofenac       & 10uM             & LINCSCP\\_14684  &  0              \\\\\n",
       "\t PC3              & Diclofenac       & 10uM             & LINCSCP\\_154188 & NA              \\\\\n",
       "\t PC3              & Diclofenac       & 3.33uM           & LINCSCP\\_154189 & NA              \\\\\n",
       "\t A375             & Diclofenac       & 10uM             & LINCSCP\\_178714 &  0              \\\\\n",
       "\\end{tabular}\n"
      ],
      "text/markdown": [
       "\n",
       "cellline | compound | concentration | signatureid | is_exemplar | \n",
       "|---|---|---|---|---|---|\n",
       "| A375           | Diclofenac     | 10uM           | LINCSCP_100    |  1             | \n",
       "| MCF7           | Diclofenac     | 0.04uM         | LINCSCP_135985 | NA             | \n",
       "| HA1E           | Diclofenac     | 10uM           | LINCSCP_14684  |  0             | \n",
       "| PC3            | Diclofenac     | 10uM           | LINCSCP_154188 | NA             | \n",
       "| PC3            | Diclofenac     | 3.33uM         | LINCSCP_154189 | NA             | \n",
       "| A375           | Diclofenac     | 10uM           | LINCSCP_178714 |  0             | \n",
       "\n",
       "\n"
      ],
      "text/plain": [
       "  cellline compound   concentration signatureid    is_exemplar\n",
       "1 A375     Diclofenac 10uM          LINCSCP_100     1         \n",
       "2 MCF7     Diclofenac 0.04uM        LINCSCP_135985 NA         \n",
       "3 HA1E     Diclofenac 10uM          LINCSCP_14684   0         \n",
       "4 PC3      Diclofenac 10uM          LINCSCP_154188 NA         \n",
       "5 PC3      Diclofenac 3.33uM        LINCSCP_154189 NA         \n",
       "6 A375     Diclofenac 10uM          LINCSCP_178714  0         "
      ]
     },
     "metadata": {},
     "output_type": "display_data"
    }
   ],
   "source": [
    "term <- \"Diclofenac\"\n",
    "ilincs_libId<-\"LIB_5\"\n",
    "apiUrl <- paste(\"http://www.ilincs.org/api/SignatureMeta/findTermWithSynonyms?term=\",term,\"&library=\",ilincs_libId,sep=\"\")\n",
    "req <- GET(apiUrl)\n",
    "ilincs_result_df<-fromJSON(httr::content(req,type=\"text\"))$data\n",
    "head(ilincs_result_df[,c(\"cellline\",\"compound\",\"concentration\",\"signatureid\",\"is_exemplar\")])"
   ]
  },
  {
   "cell_type": "markdown",
   "metadata": {},
   "source": [
    "###Selecting a signature to analyze"
   ]
  },
  {
   "cell_type": "code",
   "execution_count": 5,
   "metadata": {},
   "outputs": [
    {
     "data": {
      "text/html": [
       "'LINCSCP_100'"
      ],
      "text/latex": [
       "'LINCSCP\\_100'"
      ],
      "text/markdown": [
       "'LINCSCP_100'"
      ],
      "text/plain": [
       "[1] \"LINCSCP_100\""
      ]
     },
     "metadata": {},
     "output_type": "display_data"
    }
   ],
   "source": [
    "ilincs_signatureId <- ilincs_result_df[1,\"signatureid\"]\n",
    "ilincs_signatureId"
   ]
  },
  {
   "cell_type": "markdown",
   "metadata": {},
   "source": [
    "## Getting signature data and vulcano plot\n",
    "###The first step is to retrieve the session id for creation of the signature data table"
   ]
  },
  {
   "cell_type": "code",
   "execution_count": 6,
   "metadata": {},
   "outputs": [
    {
     "data": {
      "text/html": [
       "<strong>data:</strong> 'sig_Tue_Dec__4_22_44_55_2018_4557968'"
      ],
      "text/latex": [
       "\\textbf{data:} 'sig\\_Tue\\_Dec\\_\\_4\\_22\\_44\\_55\\_2018\\_4557968'"
      ],
      "text/markdown": [
       "**data:** 'sig_Tue_Dec__4_22_44_55_2018_4557968'"
      ],
      "text/plain": [
       "                                  data \n",
       "\"sig_Tue_Dec__4_22_44_55_2018_4557968\" "
      ]
     },
     "metadata": {},
     "output_type": "display_data"
    }
   ],
   "source": [
    "req <- POST(\"http://www.ilincs.org/api/ilincsR/downloadSignature\", body = list(sigID = paste(ilincs_signatureId)), encode = \"json\")\n",
    "ilincs_sessionId<-unlist(content(req))\n",
    "ilincs_sessionId"
   ]
  },
  {
   "cell_type": "markdown",
   "metadata": {},
   "source": [
    "### Retrieving data"
   ]
  },
  {
   "cell_type": "code",
   "execution_count": 7,
   "metadata": {},
   "outputs": [
    {
     "data": {
      "text/html": [
       "<table>\n",
       "<thead><tr><th scope=col>signatureID</th><th scope=col>ID_geneid</th><th scope=col>Name_GeneSymbol</th><th scope=col>Value_LogDiffExp</th><th scope=col>Significance_pvalue</th></tr></thead>\n",
       "<tbody>\n",
       "\t<tr><td>LINCSCP_100</td><td>16         </td><td>AARS       </td><td> 1.047000  </td><td>0.200843394</td></tr>\n",
       "\t<tr><td>LINCSCP_100</td><td>23         </td><td>ABCF1      </td><td> 0.787095  </td><td>0.083514594</td></tr>\n",
       "\t<tr><td>LINCSCP_100</td><td>25         </td><td>ABL1       </td><td>-2.933770  </td><td>0.004530523</td></tr>\n",
       "\t<tr><td>LINCSCP_100</td><td>30         </td><td>ACAA1      </td><td> 2.821140  </td><td>0.001994390</td></tr>\n",
       "\t<tr><td>LINCSCP_100</td><td>39         </td><td>ACAT2      </td><td> 0.528219  </td><td>0.183911294</td></tr>\n",
       "\t<tr><td>LINCSCP_100</td><td>47         </td><td>ACLY       </td><td> 2.308770  </td><td>0.049860369</td></tr>\n",
       "</tbody>\n",
       "</table>\n"
      ],
      "text/latex": [
       "\\begin{tabular}{r|lllll}\n",
       " signatureID & ID\\_geneid & Name\\_GeneSymbol & Value\\_LogDiffExp & Significance\\_pvalue\\\\\n",
       "\\hline\n",
       "\t LINCSCP\\_100 & 16            & AARS          &  1.047000     & 0.200843394  \\\\\n",
       "\t LINCSCP\\_100 & 23            & ABCF1         &  0.787095     & 0.083514594  \\\\\n",
       "\t LINCSCP\\_100 & 25            & ABL1          & -2.933770     & 0.004530523  \\\\\n",
       "\t LINCSCP\\_100 & 30            & ACAA1         &  2.821140     & 0.001994390  \\\\\n",
       "\t LINCSCP\\_100 & 39            & ACAT2         &  0.528219     & 0.183911294  \\\\\n",
       "\t LINCSCP\\_100 & 47            & ACLY          &  2.308770     & 0.049860369  \\\\\n",
       "\\end{tabular}\n"
      ],
      "text/markdown": [
       "\n",
       "signatureID | ID_geneid | Name_GeneSymbol | Value_LogDiffExp | Significance_pvalue | \n",
       "|---|---|---|---|---|---|\n",
       "| LINCSCP_100 | 16          | AARS        |  1.047000   | 0.200843394 | \n",
       "| LINCSCP_100 | 23          | ABCF1       |  0.787095   | 0.083514594 | \n",
       "| LINCSCP_100 | 25          | ABL1        | -2.933770   | 0.004530523 | \n",
       "| LINCSCP_100 | 30          | ACAA1       |  2.821140   | 0.001994390 | \n",
       "| LINCSCP_100 | 39          | ACAT2       |  0.528219   | 0.183911294 | \n",
       "| LINCSCP_100 | 47          | ACLY        |  2.308770   | 0.049860369 | \n",
       "\n",
       "\n"
      ],
      "text/plain": [
       "  signatureID ID_geneid Name_GeneSymbol Value_LogDiffExp Significance_pvalue\n",
       "1 LINCSCP_100 16        AARS             1.047000        0.200843394        \n",
       "2 LINCSCP_100 23        ABCF1            0.787095        0.083514594        \n",
       "3 LINCSCP_100 25        ABL1            -2.933770        0.004530523        \n",
       "4 LINCSCP_100 30        ACAA1            2.821140        0.001994390        \n",
       "5 LINCSCP_100 39        ACAT2            0.528219        0.183911294        \n",
       "6 LINCSCP_100 47        ACLY             2.308770        0.049860369        "
      ]
     },
     "metadata": {},
     "output_type": "display_data"
    }
   ],
   "source": [
    "fileUrl=paste(\"http://www.ilincs.org/tmp/\",ilincs_sessionId,\".xls\",sep=\"\")\n",
    "signatureData<-read.table(fileUrl,sep=\"\\t\",header=T,stringsAsFactors = F)\n",
    "head(signatureData)"
   ]
  },
  {
   "cell_type": "markdown",
   "metadata": {},
   "source": [
    "### Insert volcano plot"
   ]
  },
  {
   "cell_type": "code",
   "execution_count": 8,
   "metadata": {},
   "outputs": [
    {
     "data": {
      "text/plain": [
       "[1] \"http://www.ilincs.org/ocpu/tmp/x0257282d5b/graphics/1/png\"\n",
       "attr(,\"class\")\n",
       "[1] \"knit_image_paths\" \"knit_asis\"       "
      ]
     },
     "metadata": {},
     "output_type": "display_data"
    }
   ],
   "source": [
    "apiUrl <- paste(\"http://www.ilincs.org/api/ilincsR/volcanoPlot?file=\",ilincs_sessionId,\".xls\",sep=\"\")\n",
    "req <- GET(apiUrl)\n",
    "ilincs_volcanoUrl<-paste(\"http://www.ilincs.org\",content(req)$url,sep=\"\")\n",
    "include_graphics(ilincs_volcanoUrl)"
   ]
  },
  {
   "cell_type": "markdown",
   "metadata": {},
   "source": [
    "%expand ${ }\n",
    "${ ilincs_volcanoUrl }\n",
    "<!-- ![alt text](http://www.ilincs.org/ocpu/tmp/x08c475ef57/graphics/1/png \"Logo Title Text 1\") -->\n",
    "## Get connected signatures"
   ]
  },
  {
   "cell_type": "code",
   "execution_count": 9,
   "metadata": {
    "slideshow": {
     "slide_type": "slide"
    }
   },
   "outputs": [
    {
     "name": "stderr",
     "output_type": "stream",
     "text": [
      "No encoding supplied: defaulting to UTF-8.\n"
     ]
    },
    {
     "data": {
      "text/html": [
       "<table>\n",
       "<thead><tr><th scope=col>signatureid</th><th scope=col>similarity</th><th scope=col>significance</th><th scope=col>nGenes</th><th scope=col>factor</th><th scope=col>compound</th><th scope=col>concentration</th><th scope=col>cellline</th><th scope=col>treatment</th><th scope=col>time</th><th scope=col>lincspertid</th><th scope=col>stitchID</th><th scope=col>perturbagenID</th><th scope=col>pubChemID</th><th scope=col>lincsSigID</th><th scope=col>is_exemplar</th></tr></thead>\n",
       "<tbody>\n",
       "\t<tr><td>LINCSCP_176750                          </td><td>0.441378                                </td><td>0                                       </td><td>978                                     </td><td>NA                                      </td><td>CHEMBL1208118                           </td><td>10uM                                    </td><td>A375                                    </td><td>CHEMBL1208118                           </td><td>6h                                      </td><td>LSM-3598                                </td><td>NA                                      </td><td>BRD-K71266197                           </td><td>25124826                                </td><td>CPC004_A375_6H:BRD-K71266197-236-01-9:10</td><td>1                                       </td></tr>\n",
       "\t<tr><td>LINCSCP_124                             </td><td>0.439186                                </td><td>0                                       </td><td>978                                     </td><td>NA                                      </td><td>Erythromycin Estolate                   </td><td>10uM                                    </td><td>A375                                    </td><td>Erythromycin Estolate                   </td><td>6h                                      </td><td>LSM-2876                                </td><td>CIDs00071277                            </td><td>BRD-K39746403                           </td><td>   71277                                </td><td>CPC004_A375_6H:BRD-K39746403-084-03-1:10</td><td>1                                       </td></tr>\n",
       "\t<tr><td>LINCSCP_65                              </td><td>0.434709                                </td><td>0                                       </td><td>978                                     </td><td>NA                                      </td><td>Chlorthalidone                          </td><td>10uM                                    </td><td>A375                                    </td><td>Chlorthalidone                          </td><td>6h                                      </td><td>LSM-1417                                </td><td>CIDs00002732                            </td><td>BRD-A26384407                           </td><td>    2732                                </td><td>CPC004_A375_6H:BRD-A26384407-001-15-2:10</td><td>1                                       </td></tr>\n",
       "\t<tr><td>LINCSCP_176580                          </td><td>0.424631                                </td><td>0                                       </td><td>978                                     </td><td>NA                                      </td><td>Amidate                                 </td><td>10uM                                    </td><td>A375                                    </td><td>Amidate                                 </td><td>6h                                      </td><td>LSM-1640                                </td><td>CIDs00036339                            </td><td>BRD-A54880345                           </td><td>   36339                                </td><td>CPC004_A375_6H:BRD-A54880345-001-11-8:10</td><td>1                                       </td></tr>\n",
       "\t<tr><td>LINCSCP_176625                          </td><td>0.423807                                </td><td>0                                       </td><td>978                                     </td><td>NA                                      </td><td>Piperidolate                            </td><td>10uM                                    </td><td>A375                                    </td><td>Piperidolate                            </td><td>6h                                      </td><td>LSM-1951                                </td><td>CIDs00004839                            </td><td>BRD-A97479839                           </td><td>    4839                                </td><td>CPC004_A375_6H:BRD-A97479839-003-08-3:10</td><td>1                                       </td></tr>\n",
       "\t<tr><td>LINCSCP_176698                          </td><td>0.409430                                </td><td>0                                       </td><td>978                                     </td><td>NA                                      </td><td>TOCRIS-0930                             </td><td>10uM                                    </td><td>A375                                    </td><td>TOCRIS-0930                             </td><td>6h                                      </td><td>LSM-2999                                </td><td>CIDs06604780                            </td><td>BRD-K45296539                           </td><td> 6604780                                </td><td>CPC004_A375_6H:BRD-K45296539-003-01-0:10</td><td>0                                       </td></tr>\n",
       "</tbody>\n",
       "</table>\n"
      ],
      "text/latex": [
       "\\begin{tabular}{r|llllllllllllllll}\n",
       " signatureid & similarity & significance & nGenes & factor & compound & concentration & cellline & treatment & time & lincspertid & stitchID & perturbagenID & pubChemID & lincsSigID & is\\_exemplar\\\\\n",
       "\\hline\n",
       "\t LINCSCP\\_176750                             & 0.441378                                     & 0                                            & 978                                          & NA                                           & CHEMBL1208118                                & 10uM                                         & A375                                         & CHEMBL1208118                                & 6h                                           & LSM-3598                                     & NA                                           & BRD-K71266197                                & 25124826                                     & CPC004\\_A375\\_6H:BRD-K71266197-236-01-9:10 & 1                                           \\\\\n",
       "\t LINCSCP\\_124                                & 0.439186                                     & 0                                            & 978                                          & NA                                           & Erythromycin Estolate                        & 10uM                                         & A375                                         & Erythromycin Estolate                        & 6h                                           & LSM-2876                                     & CIDs00071277                                 & BRD-K39746403                                &    71277                                     & CPC004\\_A375\\_6H:BRD-K39746403-084-03-1:10 & 1                                           \\\\\n",
       "\t LINCSCP\\_65                                 & 0.434709                                     & 0                                            & 978                                          & NA                                           & Chlorthalidone                               & 10uM                                         & A375                                         & Chlorthalidone                               & 6h                                           & LSM-1417                                     & CIDs00002732                                 & BRD-A26384407                                &     2732                                     & CPC004\\_A375\\_6H:BRD-A26384407-001-15-2:10 & 1                                           \\\\\n",
       "\t LINCSCP\\_176580                             & 0.424631                                     & 0                                            & 978                                          & NA                                           & Amidate                                      & 10uM                                         & A375                                         & Amidate                                      & 6h                                           & LSM-1640                                     & CIDs00036339                                 & BRD-A54880345                                &    36339                                     & CPC004\\_A375\\_6H:BRD-A54880345-001-11-8:10 & 1                                           \\\\\n",
       "\t LINCSCP\\_176625                             & 0.423807                                     & 0                                            & 978                                          & NA                                           & Piperidolate                                 & 10uM                                         & A375                                         & Piperidolate                                 & 6h                                           & LSM-1951                                     & CIDs00004839                                 & BRD-A97479839                                &     4839                                     & CPC004\\_A375\\_6H:BRD-A97479839-003-08-3:10 & 1                                           \\\\\n",
       "\t LINCSCP\\_176698                             & 0.409430                                     & 0                                            & 978                                          & NA                                           & TOCRIS-0930                                  & 10uM                                         & A375                                         & TOCRIS-0930                                  & 6h                                           & LSM-2999                                     & CIDs06604780                                 & BRD-K45296539                                &  6604780                                     & CPC004\\_A375\\_6H:BRD-K45296539-003-01-0:10 & 0                                           \\\\\n",
       "\\end{tabular}\n"
      ],
      "text/markdown": [
       "\n",
       "signatureid | similarity | significance | nGenes | factor | compound | concentration | cellline | treatment | time | lincspertid | stitchID | perturbagenID | pubChemID | lincsSigID | is_exemplar | \n",
       "|---|---|---|---|---|---|\n",
       "| LINCSCP_176750                           | 0.441378                                 | 0                                        | 978                                      | NA                                       | CHEMBL1208118                            | 10uM                                     | A375                                     | CHEMBL1208118                            | 6h                                       | LSM-3598                                 | NA                                       | BRD-K71266197                            | 25124826                                 | CPC004_A375_6H:BRD-K71266197-236-01-9:10 | 1                                        | \n",
       "| LINCSCP_124                              | 0.439186                                 | 0                                        | 978                                      | NA                                       | Erythromycin Estolate                    | 10uM                                     | A375                                     | Erythromycin Estolate                    | 6h                                       | LSM-2876                                 | CIDs00071277                             | BRD-K39746403                            |    71277                                 | CPC004_A375_6H:BRD-K39746403-084-03-1:10 | 1                                        | \n",
       "| LINCSCP_65                               | 0.434709                                 | 0                                        | 978                                      | NA                                       | Chlorthalidone                           | 10uM                                     | A375                                     | Chlorthalidone                           | 6h                                       | LSM-1417                                 | CIDs00002732                             | BRD-A26384407                            |     2732                                 | CPC004_A375_6H:BRD-A26384407-001-15-2:10 | 1                                        | \n",
       "| LINCSCP_176580                           | 0.424631                                 | 0                                        | 978                                      | NA                                       | Amidate                                  | 10uM                                     | A375                                     | Amidate                                  | 6h                                       | LSM-1640                                 | CIDs00036339                             | BRD-A54880345                            |    36339                                 | CPC004_A375_6H:BRD-A54880345-001-11-8:10 | 1                                        | \n",
       "| LINCSCP_176625                           | 0.423807                                 | 0                                        | 978                                      | NA                                       | Piperidolate                             | 10uM                                     | A375                                     | Piperidolate                             | 6h                                       | LSM-1951                                 | CIDs00004839                             | BRD-A97479839                            |     4839                                 | CPC004_A375_6H:BRD-A97479839-003-08-3:10 | 1                                        | \n",
       "| LINCSCP_176698                           | 0.409430                                 | 0                                        | 978                                      | NA                                       | TOCRIS-0930                              | 10uM                                     | A375                                     | TOCRIS-0930                              | 6h                                       | LSM-2999                                 | CIDs06604780                             | BRD-K45296539                            |  6604780                                 | CPC004_A375_6H:BRD-K45296539-003-01-0:10 | 0                                        | \n",
       "\n",
       "\n"
      ],
      "text/plain": [
       "  signatureid    similarity significance nGenes factor compound             \n",
       "1 LINCSCP_176750 0.441378   0            978    NA     CHEMBL1208118        \n",
       "2 LINCSCP_124    0.439186   0            978    NA     Erythromycin Estolate\n",
       "3 LINCSCP_65     0.434709   0            978    NA     Chlorthalidone       \n",
       "4 LINCSCP_176580 0.424631   0            978    NA     Amidate              \n",
       "5 LINCSCP_176625 0.423807   0            978    NA     Piperidolate         \n",
       "6 LINCSCP_176698 0.409430   0            978    NA     TOCRIS-0930          \n",
       "  concentration cellline treatment             time lincspertid stitchID    \n",
       "1 10uM          A375     CHEMBL1208118         6h   LSM-3598    NA          \n",
       "2 10uM          A375     Erythromycin Estolate 6h   LSM-2876    CIDs00071277\n",
       "3 10uM          A375     Chlorthalidone        6h   LSM-1417    CIDs00002732\n",
       "4 10uM          A375     Amidate               6h   LSM-1640    CIDs00036339\n",
       "5 10uM          A375     Piperidolate          6h   LSM-1951    CIDs00004839\n",
       "6 10uM          A375     TOCRIS-0930           6h   LSM-2999    CIDs06604780\n",
       "  perturbagenID pubChemID lincsSigID                               is_exemplar\n",
       "1 BRD-K71266197 25124826  CPC004_A375_6H:BRD-K71266197-236-01-9:10 1          \n",
       "2 BRD-K39746403    71277  CPC004_A375_6H:BRD-K39746403-084-03-1:10 1          \n",
       "3 BRD-A26384407     2732  CPC004_A375_6H:BRD-A26384407-001-15-2:10 1          \n",
       "4 BRD-A54880345    36339  CPC004_A375_6H:BRD-A54880345-001-11-8:10 1          \n",
       "5 BRD-A97479839     4839  CPC004_A375_6H:BRD-A97479839-003-08-3:10 1          \n",
       "6 BRD-K45296539  6604780  CPC004_A375_6H:BRD-K45296539-003-01-0:10 0          "
      ]
     },
     "metadata": {},
     "output_type": "display_data"
    }
   ],
   "source": [
    "apiUrl <- paste(\"http://www.ilincs.org/api/SignatureMeta/findConcordantSignatures?sigID=\",ilincs_signatureId,\"&lib=\",ilincs_libId,sep=\"\")\n",
    "req <- GET(apiUrl)\n",
    "# prettify(content(req,type=\"text\"))\n",
    "ilincs_conn_df<-fromJSON(httr::content(req,type=\"text\"))\n",
    "head(ilincs_conn_df)"
   ]
  },
  {
   "cell_type": "markdown",
   "metadata": {},
   "source": [
    "## Find LINCS signatures connected to user a submitted signature\n",
    "### Creating user submitted signature in the form of a gene list"
   ]
  },
  {
   "cell_type": "code",
   "execution_count": 10,
   "metadata": {},
   "outputs": [
    {
     "data": {
      "text/html": [
       "<table>\n",
       "<thead><tr><th></th><th scope=col>signatureID</th><th scope=col>ID_geneid</th><th scope=col>Name_GeneSymbol</th><th scope=col>Value_LogDiffExp</th><th scope=col>Significance_pvalue</th></tr></thead>\n",
       "<tbody>\n",
       "\t<tr><th scope=row>379</th><td>LINCSCP_100 </td><td> 5993       </td><td>RFX5        </td><td>-10.00000   </td><td>1.122981e-05</td></tr>\n",
       "\t<tr><th scope=row>539</th><td>LINCSCP_100 </td><td> 9134       </td><td>CCNE2       </td><td> -6.00931   </td><td>5.594009e-04</td></tr>\n",
       "\t<tr><th scope=row>639</th><td>LINCSCP_100 </td><td>10434       </td><td>LYPLA1      </td><td> -9.71956   </td><td>7.459595e-04</td></tr>\n",
       "\t<tr><th scope=row>831</th><td>LINCSCP_100 </td><td>51056       </td><td>LAP3        </td><td> -9.71950   </td><td>7.464972e-04</td></tr>\n",
       "\t<tr><th scope=row>889</th><td>LINCSCP_100 </td><td>55748       </td><td>CNDP2       </td><td> -9.71718   </td><td>7.666483e-04</td></tr>\n",
       "\t<tr><th scope=row>939</th><td>LINCSCP_100 </td><td>79187       </td><td>FSD1        </td><td> -4.65059   </td><td>8.272043e-04</td></tr>\n",
       "</tbody>\n",
       "</table>\n"
      ],
      "text/latex": [
       "\\begin{tabular}{r|lllll}\n",
       "  & signatureID & ID\\_geneid & Name\\_GeneSymbol & Value\\_LogDiffExp & Significance\\_pvalue\\\\\n",
       "\\hline\n",
       "\t379 & LINCSCP\\_100 &  5993         & RFX5          & -10.00000     & 1.122981e-05 \\\\\n",
       "\t539 & LINCSCP\\_100 &  9134         & CCNE2         &  -6.00931     & 5.594009e-04 \\\\\n",
       "\t639 & LINCSCP\\_100 & 10434         & LYPLA1        &  -9.71956     & 7.459595e-04 \\\\\n",
       "\t831 & LINCSCP\\_100 & 51056         & LAP3          &  -9.71950     & 7.464972e-04 \\\\\n",
       "\t889 & LINCSCP\\_100 & 55748         & CNDP2         &  -9.71718     & 7.666483e-04 \\\\\n",
       "\t939 & LINCSCP\\_100 & 79187         & FSD1          &  -4.65059     & 8.272043e-04 \\\\\n",
       "\\end{tabular}\n"
      ],
      "text/markdown": [
       "\n",
       "| <!--/--> | signatureID | ID_geneid | Name_GeneSymbol | Value_LogDiffExp | Significance_pvalue | \n",
       "|---|---|---|---|---|---|\n",
       "| 379 | LINCSCP_100  |  5993        | RFX5         | -10.00000    | 1.122981e-05 | \n",
       "| 539 | LINCSCP_100  |  9134        | CCNE2        |  -6.00931    | 5.594009e-04 | \n",
       "| 639 | LINCSCP_100  | 10434        | LYPLA1       |  -9.71956    | 7.459595e-04 | \n",
       "| 831 | LINCSCP_100  | 51056        | LAP3         |  -9.71950    | 7.464972e-04 | \n",
       "| 889 | LINCSCP_100  | 55748        | CNDP2        |  -9.71718    | 7.666483e-04 | \n",
       "| 939 | LINCSCP_100  | 79187        | FSD1         |  -4.65059    | 8.272043e-04 | \n",
       "\n",
       "\n"
      ],
      "text/plain": [
       "    signatureID ID_geneid Name_GeneSymbol Value_LogDiffExp Significance_pvalue\n",
       "379 LINCSCP_100  5993     RFX5            -10.00000        1.122981e-05       \n",
       "539 LINCSCP_100  9134     CCNE2            -6.00931        5.594009e-04       \n",
       "639 LINCSCP_100 10434     LYPLA1           -9.71956        7.459595e-04       \n",
       "831 LINCSCP_100 51056     LAP3             -9.71950        7.464972e-04       \n",
       "889 LINCSCP_100 55748     CNDP2            -9.71718        7.666483e-04       \n",
       "939 LINCSCP_100 79187     FSD1             -4.65059        8.272043e-04       "
      ]
     },
     "metadata": {},
     "output_type": "display_data"
    }
   ],
   "source": [
    "top100signature <- signatureData[order(signatureData$Significance_pvalue)[1:100],]\n",
    "head(top100signature)"
   ]
  },
  {
   "cell_type": "markdown",
   "metadata": {},
   "source": [
    "### Uploading signature as a list genes for enrichment"
   ]
  },
  {
   "cell_type": "code",
   "execution_count": 19,
   "metadata": {},
   "outputs": [
    {
     "data": {
      "text/html": [
       "<table>\n",
       "<thead><tr><th scope=col>tableNames</th><th scope=col>zScores</th><th scope=col>compound</th><th scope=col>concentration</th><th scope=col>cellLine</th><th scope=col>time</th></tr></thead>\n",
       "<tbody>\n",
       "\t<tr><td>LINCSCP_100          </td><td>17.3629              </td><td>Diclofenac           </td><td>LSM-2160             </td><td>10uM                 </td><td>A375                 </td></tr>\n",
       "\t<tr><td>LINCSCP_65           </td><td> 7.4109              </td><td>Chlorthalidone       </td><td>LSM-1417             </td><td>10uM                 </td><td>A375                 </td></tr>\n",
       "\t<tr><td>LINCSCP_109          </td><td> 7.3279              </td><td>RS-39604             </td><td>LSM-2461             </td><td>10uM                 </td><td>A375                 </td></tr>\n",
       "\t<tr><td>LINCSCP_138          </td><td> 7.2192              </td><td>Cilostazol           </td><td>LSM-3491             </td><td>10uM                 </td><td>A375                 </td></tr>\n",
       "\t<tr><td>LINCSCP_66           </td><td> 6.8862              </td><td>Altrenogest          </td><td>LSM-1424             </td><td>10uM                 </td><td>A375                 </td></tr>\n",
       "\t<tr><td>LINCSCP_176623       </td><td> 6.7815              </td><td>Dexamethasone Acetate</td><td>LSM-1915             </td><td>10uM                 </td><td>A375                 </td></tr>\n",
       "</tbody>\n",
       "</table>\n"
      ],
      "text/latex": [
       "\\begin{tabular}{r|llllll}\n",
       " tableNames & zScores & compound & concentration & cellLine & time\\\\\n",
       "\\hline\n",
       "\t LINCSCP\\_100         & 17.3629               & Diclofenac            & LSM-2160              & 10uM                  & A375                 \\\\\n",
       "\t LINCSCP\\_65          &  7.4109               & Chlorthalidone        & LSM-1417              & 10uM                  & A375                 \\\\\n",
       "\t LINCSCP\\_109         &  7.3279               & RS-39604              & LSM-2461              & 10uM                  & A375                 \\\\\n",
       "\t LINCSCP\\_138         &  7.2192               & Cilostazol            & LSM-3491              & 10uM                  & A375                 \\\\\n",
       "\t LINCSCP\\_66          &  6.8862               & Altrenogest           & LSM-1424              & 10uM                  & A375                 \\\\\n",
       "\t LINCSCP\\_176623      &  6.7815               & Dexamethasone Acetate & LSM-1915              & 10uM                  & A375                 \\\\\n",
       "\\end{tabular}\n"
      ],
      "text/markdown": [
       "\n",
       "tableNames | zScores | compound | concentration | cellLine | time | \n",
       "|---|---|---|---|---|---|\n",
       "| LINCSCP_100           | 17.3629               | Diclofenac            | LSM-2160              | 10uM                  | A375                  | \n",
       "| LINCSCP_65            |  7.4109               | Chlorthalidone        | LSM-1417              | 10uM                  | A375                  | \n",
       "| LINCSCP_109           |  7.3279               | RS-39604              | LSM-2461              | 10uM                  | A375                  | \n",
       "| LINCSCP_138           |  7.2192               | Cilostazol            | LSM-3491              | 10uM                  | A375                  | \n",
       "| LINCSCP_66            |  6.8862               | Altrenogest           | LSM-1424              | 10uM                  | A375                  | \n",
       "| LINCSCP_176623        |  6.7815               | Dexamethasone Acetate | LSM-1915              | 10uM                  | A375                  | \n",
       "\n",
       "\n"
      ],
      "text/plain": [
       "  tableNames     zScores compound              concentration cellLine time\n",
       "1 LINCSCP_100    17.3629 Diclofenac            LSM-2160      10uM     A375\n",
       "2 LINCSCP_65      7.4109 Chlorthalidone        LSM-1417      10uM     A375\n",
       "3 LINCSCP_109     7.3279 RS-39604              LSM-2461      10uM     A375\n",
       "4 LINCSCP_138     7.2192 Cilostazol            LSM-3491      10uM     A375\n",
       "5 LINCSCP_66      6.8862 Altrenogest           LSM-1424      10uM     A375\n",
       "6 LINCSCP_176623  6.7815 Dexamethasone Acetate LSM-1915      10uM     A375"
      ]
     },
     "metadata": {},
     "output_type": "display_data"
    }
   ],
   "source": [
    "apiUrl=\"http://www.ilincs.org/api/ilincsR/findConcordancesSC\"\n",
    "req <- POST(apiUrl, body = list(mode=\"geneList\",metadata=TRUE,signatureProfile = list(genes=top100signature$Name_GeneSymbol)),encode = \"json\")\n",
    "# ilincsEnrichedSignatures <- data.table::rbindlist(content(req)$sigScores, use.names = TRUE, fill = TRUE)\n",
    "ilincsEnrichedSignatures <- ldply (content(req)$sigScores, data.frame)\n",
    "head(ilincsEnrichedSignatures)"
   ]
  },
  {
   "cell_type": "markdown",
   "metadata": {},
   "source": [
    "## Get GSEA plot"
   ]
  },
  {
   "cell_type": "code",
   "execution_count": null,
   "metadata": {},
   "outputs": [],
   "source": [
    "apiUrl <- \"http://www.ilincs.org/api/ilincsR/plotGSEA\"\n",
    "req <- POST(apiUrl, body = list(signatureId = ilincs_signatureId,genes = top100signature$ID_geneid, output=\"png\"), encode = \"json\")\n",
    "gseaPlotPng <- content(req)$fileName\n",
    "gseaPlotUrl <- paste(\"http://www.ilincs.org/tmp/\",gseaPlotPng,\".png\",sep=\"\")\n",
    "include_graphics(gseaPlotUrl)"
   ]
  },
  {
   "cell_type": "markdown",
   "metadata": {},
   "source": [
    "## Signature as a list of up and down genes"
   ]
  },
  {
   "cell_type": "code",
   "execution_count": null,
   "metadata": {},
   "outputs": [],
   "source": [
    "apiUrl=\"http://www.ilincs.org/api/ilincsR/findConcordancesSC\"\n",
    "topUpRegulatedGenes <- list(genesUp=top100signature$Name_GeneSymbol[top100signature$Value_LogDiffExp > 0])\n",
    "topDownregulatedGenes <- list(genesDown=top100signature$Name_GeneSymbol[top100signature$Value_LogDiffExp < 0])\n",
    "req <- POST(\"http://www.ilincs.org/api/ilincsR/findConcordancesSC\", body = list(mode=\"UpDn\",metadata=TRUE,signatureProfile = c(topUpRegulatedGenes, topDownregulatedGenes)),encode = \"json\")\n",
    "ilincsUpDnConnectedSignatures <- data.table::rbindlist(content(req)$concordanceTable, use.names = TRUE, fill = TRUE)\n",
    "head(ilincsUpDnConnectedSignatures)"
   ]
  },
  {
   "cell_type": "markdown",
   "metadata": {},
   "source": [
    "## Group analysis of top 20 most connected signatures with signature of interest"
   ]
  },
  {
   "cell_type": "code",
   "execution_count": null,
   "metadata": {},
   "outputs": [],
   "source": [
    "signatureGroup <-ilincsUpDnConnectedSignatures$signatureID[1:20]\n",
    "apiUrl<-\"http://www.ilincs.org/api/ilincsR/GroupLincsAnalysis\"\n",
    "req<-POST(apiUrl, body = list(idList = signatureGroup,noOfGenes = 50), encode = \"json\")                   \n",
    "groupAnalysisSessionID <- content(req)$data[[2]]\n",
    "groupAnalysisSessionID"
   ]
  },
  {
   "cell_type": "markdown",
   "metadata": {},
   "source": [
    "### [Signature group heatmap on iLINCS](http://www.ilincs.org/apps/heatmap/?sessionID=`r groupAnalysisSessionID`&property=signatureID)"
   ]
  },
  {
   "cell_type": "code",
   "execution_count": null,
   "metadata": {},
   "outputs": [],
   "source": [
    "heatmap_url<-paste(\"http://www.ilincs.org/apps/heatmap/?sessionID=\",groupAnalysisSessionID,\"&property=signatureID\",sep = \"\")"
   ]
  },
  {
   "cell_type": "markdown",
   "metadata": {},
   "source": [
    "### [Signature group PCA and tSNE app on iLINCS](http://www.ilincs.org/apps/pca/?sessionID=`r groupAnalysisSessionID`&property=signatureID)"
   ]
  },
  {
   "cell_type": "code",
   "execution_count": null,
   "metadata": {},
   "outputs": [],
   "source": [
    "pca_url<-paste(\"http://www.ilincs.org/apps/pca/?sessionID=\",groupAnalysisSessionID,\"&property=signatureID\",sep = \"\")"
   ]
  },
  {
   "cell_type": "markdown",
   "metadata": {},
   "source": [
    "##Find connected signatures based on user submitted full signature\n",
    "###Creating a file to upload from previouslsy downloaded signature file"
   ]
  },
  {
   "cell_type": "code",
   "execution_count": null,
   "metadata": {},
   "outputs": [],
   "source": [
    "write.table(signatureData,file=\"sigFile.tsv\",sep=\"\\t\",row.names=F,col.names = T,quote=F)\n",
    "system(paste(\"head sigFile.tsv\"))"
   ]
  },
  {
   "cell_type": "markdown",
   "metadata": {},
   "source": [
    "###Upload the file"
   ]
  },
  {
   "cell_type": "code",
   "execution_count": null,
   "metadata": {},
   "outputs": [],
   "source": [
    "sigFile <- \"sigFile.tsv\"\n",
    "processFile <- content(POST(\"http://www.ilincs.org/api/SignatureMeta/upload\", body=list(file=upload_file(sigFile))))\n",
    "signatureFile <- processFile$status$fileName[[1]]\n",
    "signatureFile"
   ]
  },
  {
   "cell_type": "raw",
   "metadata": {},
   "source": [
    "###Find connected signatures"
   ]
  },
  {
   "cell_type": "code",
   "execution_count": null,
   "metadata": {},
   "outputs": [],
   "source": [
    "apiUrl <- \"http://www.ilincs.org/api/ilincsR/findConcordances\"\n",
    "req <- (POST(apiUrl, body = list(file=signatureFile, lib=\"LIB_5\", path=\"/mnt/raid/tmp/\"), encode = \"form\"))\n",
    "output <- data.table::rbindlist(content(req)$concordanceTable, use.names = TRUE, fill = TRUE)\n",
    "head(output)"
   ]
  },
  {
   "cell_type": "markdown",
   "metadata": {},
   "source": [
    "## Find connected compound perturbations"
   ]
  },
  {
   "cell_type": "code",
   "execution_count": null,
   "metadata": {},
   "outputs": [],
   "source": [
    "apiUrl <- paste(\"http://www.ilincs.org/api/ilincsR/signatureEnrichment?sigFile=\",signatureFile,\"&library=LIB_5&metadata=TRUE\",sep=\"\")\n",
    "req <- GET(apiUrl)\n",
    "json <- httr::content(req, as = \"text\")\n",
    "iLincsConnectedCompoundPerturbations <- fromJSON(json)$enrichment\n",
    "head(iLincsConnectedCompoundPerturbations)"
   ]
  },
  {
   "cell_type": "markdown",
   "metadata": {},
   "source": [
    "## Get connected genetic perturbations"
   ]
  },
  {
   "cell_type": "code",
   "execution_count": null,
   "metadata": {},
   "outputs": [],
   "source": [
    "apiUrl <- paste(\"http://www.ilincs.org/api/ilincsR/signatureEnrichment?sigFile=\",signatureFile,\"&library=LIB_6\",sep=\"\")\n",
    "req <- GET(apiUrl)\n",
    "json <- httr::content(req, as = \"text\")\n",
    "iLincsConnectedGeneticPerturbations <- fromJSON(json)$enrichment\n",
    "head(iLincsConnectedGeneticPerturbations)"
   ]
  },
  {
   "cell_type": "markdown",
   "metadata": {},
   "source": [
    "## Retriving Signature Metadata"
   ]
  },
  {
   "cell_type": "code",
   "execution_count": null,
   "metadata": {},
   "outputs": [],
   "source": [
    "apiUrl <- paste(\"http://www.ilincs.org/api/SignatureMeta/\",ilincs_signatureId,sep=\"\")\n",
    "req <- GET(apiUrl)\n",
    "l <- lapply(content(req), function(x) unlist(x))\n",
    "ilincs_result <- data.frame(t(sapply(l,c)))\n",
    "ilincsSigMetaData<-fromJSON(content(req,type=\"text\"))\n",
    "t(ilincs_result)"
   ]
  },
  {
   "cell_type": "markdown",
   "metadata": {},
   "source": [
    "### List of LINCS Datasets"
   ]
  },
  {
   "cell_type": "code",
   "execution_count": null,
   "metadata": {},
   "outputs": [],
   "source": [
    "apiUrl <- \"http://www.ilincs.org/api/PublicDatasets/getDatasets?lincs=true\"\n",
    "req <- GET(apiUrl)\n",
    "json <- httr::content(req, as = \"text\")\n",
    "lincs_datasets <- fromJSON(json)\n",
    "lincsDatasets <- data.frame(lincs_datasets$data)\n",
    "lincsDatasets[c(\"experiment\",\"assay\",\"dataType\")]"
   ]
  },
  {
   "cell_type": "markdown",
   "metadata": {},
   "source": [
    "### Dataset metadata\n",
    "\n",
    "**Example:** EDS-1014 "
   ]
  },
  {
   "cell_type": "code",
   "execution_count": null,
   "metadata": {},
   "outputs": [],
   "source": [
    "experiment <- \"EDS-1014\"\n",
    "apiUrl <- paste(\"http://www.ilincs.org/api/PublicDatasets/\",experiment,sep=\"\")\n",
    "req <- GET(apiUrl)\n",
    "json <- httr::content(req, as = \"text\")\n",
    "datasetMetaData <- fromJSON(json)\n",
    "datasetMetaData"
   ]
  },
  {
   "cell_type": "markdown",
   "metadata": {},
   "source": [
    "[Heatmap for dataset `r experiment` on iLINCS](http://www.ilincs.org/apps/heatmap/?data_set=`r experiment`)\n",
    "\n",
    "[PCA and tSNE for dataset `r experiment` on iLINCS](http://www.ilincs.org/apps/pca/?data_set=`r experiment`)\n",
    "\n",
    "### Dataset sample metadata"
   ]
  },
  {
   "cell_type": "code",
   "execution_count": null,
   "metadata": {},
   "outputs": [],
   "source": [
    "apiUrl <- paste(\"http://www.ilincs.org/api/ilincsR/getSamples?id=\",experiment,sep=\"\")\n",
    "req <- GET(apiUrl)\n",
    "json <- httr::content(req, as = \"text\")\n",
    "sampleMeta <- fromJSON(json)\n",
    "sampleMetaData <- data.frame(sampleMeta$data$rows)\n",
    "head(sampleMetaData)"
   ]
  },
  {
   "cell_type": "markdown",
   "metadata": {},
   "source": [
    "##Creating signature using iLINCS \n",
    "[Create signature from dataset `r experiment` on iLINCS](http://www.ilincs.org/ilincs/dataset/`r experiment`/createSignature)\n",
    "\n",
    "##Creating signature using iLINCS API"
   ]
  },
  {
   "cell_type": "code",
   "execution_count": null,
   "metadata": {},
   "outputs": [],
   "source": [
    "property <- \"ER\"\n",
    "level1 <- \"ER:+\"\n",
    "level2 <- \"ER:-\"\n",
    "apiUrl <- \"http://www.ilincs.org/api/ilincsR/LincsDataAnalysis\"\n",
    "req <- POST(apiUrl, body = list(exp = paste(experiment),prop = property,filterchk=paste(level1,level2,sep = \",,,\"),includeORexclude=1), encode = \"json\")\n",
    "createdSignaturesSessionID <- content(req)$sessionID\n",
    "createdSignaturesSessionID"
   ]
  },
  {
   "cell_type": "markdown",
   "metadata": {},
   "source": [
    "##Top 100 genes in created signature"
   ]
  },
  {
   "cell_type": "code",
   "execution_count": null,
   "metadata": {},
   "outputs": [],
   "source": [
    "l <- lapply(content(req)$geneData, function(x) unlist(x))\n",
    "ilincs_result <- data.frame(t(sapply(l,c)))\n",
    "top100signatureData <- ilincs_result[1:100,c(\"Name_GeneSymbol\",\"Value_LogDiffExp\",\"Significance_pvalue\")]\n",
    "head(top100signatureData)"
   ]
  },
  {
   "cell_type": "markdown",
   "metadata": {},
   "source": [
    "### Heatmap of data used in signature creation\n",
    "### [Signature group heatmap on iLINCS](http://www.ilincs.org/apps/heatmap/?sessionID=`r createdSignaturesSessionID`&property=`r property`&geneCount=100)\n"
   ]
  },
  {
   "cell_type": "code",
   "execution_count": 14,
   "metadata": {},
   "outputs": [
    {
     "ename": "ERROR",
     "evalue": "Error in paste(\"http://www.ilincs.org/apps/heatmap/?sessionID=\", createdSignaturesSessionID, : object 'createdSignaturesSessionID' not found\n",
     "output_type": "error",
     "traceback": [
      "Error in paste(\"http://www.ilincs.org/apps/heatmap/?sessionID=\", createdSignaturesSessionID, : object 'createdSignaturesSessionID' not found\nTraceback:\n",
      "1. paste(\"http://www.ilincs.org/apps/heatmap/?sessionID=\", createdSignaturesSessionID, \n .     \"&property=\", property, \"&geneCount=100\", sep = \"\")"
     ]
    }
   ],
   "source": [
    "heatmap_url2<-paste(\"http://www.ilincs.org/apps/heatmap/?sessionID=\",createdSignaturesSessionID,\"&property=\",property,\"&geneCount=100\",sep = \"\")"
   ]
  },
  {
   "cell_type": "code",
   "execution_count": null,
   "metadata": {},
   "outputs": [],
   "source": []
  }
 ],
 "metadata": {
  "kernelspec": {
   "display_name": "R",
   "language": "R",
   "name": "ir"
  },
  "language_info": {
   "codemirror_mode": "r",
   "file_extension": ".r",
   "mimetype": "text/x-r-source",
   "name": "R",
   "pygments_lexer": "r",
   "version": "3.4.1"
  }
 },
 "nbformat": 4,
 "nbformat_minor": 2
}
